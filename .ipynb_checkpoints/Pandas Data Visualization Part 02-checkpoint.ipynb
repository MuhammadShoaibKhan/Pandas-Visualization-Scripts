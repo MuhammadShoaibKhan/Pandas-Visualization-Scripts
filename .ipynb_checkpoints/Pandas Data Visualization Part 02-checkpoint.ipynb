{
 "cells": [
  {
   "cell_type": "code",
   "execution_count": 1,
   "id": "aa3a06ec",
   "metadata": {},
   "outputs": [],
   "source": [
    "import numpy as np\n",
    "import pandas as pd\n",
    "import matplotlib.pyplot as plt"
   ]
  },
  {
   "cell_type": "code",
   "execution_count": 2,
   "id": "6c5e7b56",
   "metadata": {},
   "outputs": [],
   "source": [
    "#################\n",
    "### Data\n",
    "#################\n",
    "\n",
    "flowers = pd.DataFrame({\n",
    "    'species':np.random.choice(a=['Alyssum','Amaranthus','Aster','Rose', 'Lily', 'Jonquil'], size=1000),\n",
    "    'shades':np.random.choice(a=['red','blue'], size=1000),\n",
    "    'prod_summer': 260+np.random.randn(1000)*np.sin(np.pi/4),\n",
    "    'prod_winter': 150+np.random.normal(100, 30, 1000),\n",
    "    'prod_fall': 355+np.random.normal(300, 130, 1000),\n",
    "    'prod_spring': 440+np.random.normal(450, 70, 1000),\n",
    "    'num_orders': np.random.randn(1000)*2\n",
    "\n",
    "    }\n",
    "    ,index=pd.date_range('2019-01-01', periods=1000)\n",
    ")\n",
    "\n"
   ]
  },
  {
   "cell_type": "code",
   "execution_count": null,
   "id": "5b60f3ee",
   "metadata": {},
   "outputs": [],
   "source": [
    "a = pd.DataFrame({\n",
    "    'A':['m','m','m','n','n','n','o','o','o'],\n",
    "    'a1':[1,2,3,  1,2,-3,  300,324,323],\n",
    "    'a2':[90,91,95,  150,151,-152,   343,313,311],\n",
    "    'a3':[10,12,13,  22,21,-23,   333,290,299],\n",
    "    'a4':[90,91,95,  150,151,-152,   311,314,317]\n",
    "})\n",
    "\n"
   ]
  },
  {
   "cell_type": "code",
   "execution_count": null,
   "id": "bca92b34",
   "metadata": {},
   "outputs": [],
   "source": [
    "b = pd.DataFrame({\n",
    "    'x': [1,2,3,4,5,6,6,5,4,3,2,1],\n",
    "    'y': [-1,-2,-3,-4,-5,-6,-6,-5,-4,-3,-2,-1]\n",
    "})\n",
    "\n"
   ]
  },
  {
   "cell_type": "code",
   "execution_count": null,
   "id": "f1a03de5",
   "metadata": {},
   "outputs": [],
   "source": [
    "g = pd.DataFrame({\n",
    "    'A':['m','m','m','n','n','n','o','o','o'],\n",
    "    'a1':[1,2,3,  1,2,3,  300,324,323],\n",
    "    'a2':[90,91,95,  150,151,152,   343,313,311],\n",
    "    'a3':[10,10,30,  15,21,27,   333,290,299],\n",
    "    'a4':[1e3,1e3,1e3,  15,13,12,   304,314,317]\n",
    "})\n",
    "\n"
   ]
  }
 ],
 "metadata": {
  "kernelspec": {
   "display_name": "Python 3",
   "language": "python",
   "name": "python3"
  },
  "language_info": {
   "codemirror_mode": {
    "name": "ipython",
    "version": 3
   },
   "file_extension": ".py",
   "mimetype": "text/x-python",
   "name": "python",
   "nbconvert_exporter": "python",
   "pygments_lexer": "ipython3",
   "version": "3.8.10"
  }
 },
 "nbformat": 4,
 "nbformat_minor": 5
}
